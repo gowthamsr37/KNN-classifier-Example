{
 "cells": [
  {
   "cell_type": "code",
   "execution_count": 1,
   "id": "b41f4f39",
   "metadata": {},
   "outputs": [],
   "source": [
    "import pandas as pd\n",
    "import numpy as np"
   ]
  },
  {
   "cell_type": "code",
   "execution_count": 2,
   "id": "3df220e2",
   "metadata": {},
   "outputs": [],
   "source": [
    "import matplotlib.pyplot as plt\n",
    "import seaborn as sns"
   ]
  },
  {
   "cell_type": "code",
   "execution_count": null,
   "id": "a1063515",
   "metadata": {},
   "outputs": [],
   "source": []
  },
  {
   "cell_type": "code",
   "execution_count": 3,
   "id": "8534cf2d",
   "metadata": {},
   "outputs": [
    {
     "data": {
      "text/html": [
       "<div>\n",
       "<style scoped>\n",
       "    .dataframe tbody tr th:only-of-type {\n",
       "        vertical-align: middle;\n",
       "    }\n",
       "\n",
       "    .dataframe tbody tr th {\n",
       "        vertical-align: top;\n",
       "    }\n",
       "\n",
       "    .dataframe thead th {\n",
       "        text-align: right;\n",
       "    }\n",
       "</style>\n",
       "<table border=\"1\" class=\"dataframe\">\n",
       "  <thead>\n",
       "    <tr style=\"text-align: right;\">\n",
       "      <th></th>\n",
       "      <th>User ID</th>\n",
       "      <th>Gender</th>\n",
       "      <th>Age</th>\n",
       "      <th>EstimatedSalary</th>\n",
       "      <th>Purchased</th>\n",
       "    </tr>\n",
       "  </thead>\n",
       "  <tbody>\n",
       "    <tr>\n",
       "      <th>0</th>\n",
       "      <td>15624510</td>\n",
       "      <td>Male</td>\n",
       "      <td>19</td>\n",
       "      <td>19000</td>\n",
       "      <td>0</td>\n",
       "    </tr>\n",
       "    <tr>\n",
       "      <th>1</th>\n",
       "      <td>15810944</td>\n",
       "      <td>Male</td>\n",
       "      <td>35</td>\n",
       "      <td>20000</td>\n",
       "      <td>0</td>\n",
       "    </tr>\n",
       "    <tr>\n",
       "      <th>2</th>\n",
       "      <td>15668575</td>\n",
       "      <td>Female</td>\n",
       "      <td>26</td>\n",
       "      <td>43000</td>\n",
       "      <td>0</td>\n",
       "    </tr>\n",
       "    <tr>\n",
       "      <th>3</th>\n",
       "      <td>15603246</td>\n",
       "      <td>Female</td>\n",
       "      <td>27</td>\n",
       "      <td>57000</td>\n",
       "      <td>0</td>\n",
       "    </tr>\n",
       "    <tr>\n",
       "      <th>4</th>\n",
       "      <td>15804002</td>\n",
       "      <td>Male</td>\n",
       "      <td>19</td>\n",
       "      <td>76000</td>\n",
       "      <td>0</td>\n",
       "    </tr>\n",
       "  </tbody>\n",
       "</table>\n",
       "</div>"
      ],
      "text/plain": [
       "    User ID  Gender  Age  EstimatedSalary  Purchased\n",
       "0  15624510    Male   19            19000          0\n",
       "1  15810944    Male   35            20000          0\n",
       "2  15668575  Female   26            43000          0\n",
       "3  15603246  Female   27            57000          0\n",
       "4  15804002    Male   19            76000          0"
      ]
     },
     "execution_count": 3,
     "metadata": {},
     "output_type": "execute_result"
    }
   ],
   "source": [
    "df = pd.read_csv('Social_Network_Ads.csv')\n",
    "df.head()"
   ]
  },
  {
   "cell_type": "code",
   "execution_count": 9,
   "id": "96e0ad29",
   "metadata": {},
   "outputs": [
    {
     "data": {
      "text/plain": [
       "(400, 5)"
      ]
     },
     "execution_count": 9,
     "metadata": {},
     "output_type": "execute_result"
    }
   ],
   "source": [
    "df.shape"
   ]
  },
  {
   "cell_type": "code",
   "execution_count": 5,
   "id": "96f3d36e",
   "metadata": {},
   "outputs": [],
   "source": [
    "X = df.iloc[:,2:4].values\n",
    "y = df.iloc[:,-1].values"
   ]
  },
  {
   "cell_type": "code",
   "execution_count": 7,
   "id": "73725a4b",
   "metadata": {},
   "outputs": [
    {
     "data": {
      "text/plain": [
       "(400, 2)"
      ]
     },
     "execution_count": 7,
     "metadata": {},
     "output_type": "execute_result"
    }
   ],
   "source": [
    "X.shape"
   ]
  },
  {
   "cell_type": "code",
   "execution_count": 8,
   "id": "ba685672",
   "metadata": {},
   "outputs": [
    {
     "data": {
      "text/plain": [
       "(400,)"
      ]
     },
     "execution_count": 8,
     "metadata": {},
     "output_type": "execute_result"
    }
   ],
   "source": [
    "y.shape"
   ]
  },
  {
   "cell_type": "code",
   "execution_count": null,
   "id": "98cf469d",
   "metadata": {},
   "outputs": [],
   "source": []
  },
  {
   "cell_type": "code",
   "execution_count": 10,
   "id": "05a58df6",
   "metadata": {},
   "outputs": [],
   "source": [
    "from sklearn.model_selection import train_test_split\n",
    "X_train ,X_test,y_train,y_test = train_test_split(X,y,test_size=0.2,random_state=20)"
   ]
  },
  {
   "cell_type": "code",
   "execution_count": 11,
   "id": "133a2df9",
   "metadata": {},
   "outputs": [
    {
     "data": {
      "text/plain": [
       "(320, 2)"
      ]
     },
     "execution_count": 11,
     "metadata": {},
     "output_type": "execute_result"
    }
   ],
   "source": [
    "X_train.shape"
   ]
  },
  {
   "cell_type": "code",
   "execution_count": 12,
   "id": "56988287",
   "metadata": {},
   "outputs": [
    {
     "data": {
      "text/plain": [
       "(80, 2)"
      ]
     },
     "execution_count": 12,
     "metadata": {},
     "output_type": "execute_result"
    }
   ],
   "source": [
    "X_test.shape"
   ]
  },
  {
   "cell_type": "code",
   "execution_count": null,
   "id": "5ae0a909",
   "metadata": {},
   "outputs": [],
   "source": []
  },
  {
   "cell_type": "code",
   "execution_count": 13,
   "id": "e1b73b92",
   "metadata": {},
   "outputs": [],
   "source": [
    "## Scaling\n",
    "\n",
    "from sklearn.preprocessing import StandardScaler\n",
    "scaler = StandardScaler()\n"
   ]
  },
  {
   "cell_type": "code",
   "execution_count": 14,
   "id": "40ac20a1",
   "metadata": {},
   "outputs": [],
   "source": [
    "X_train = scaler.fit_transform(X_train)"
   ]
  },
  {
   "cell_type": "code",
   "execution_count": 16,
   "id": "e8a751c9",
   "metadata": {},
   "outputs": [
    {
     "data": {
      "text/plain": [
       "array([[-0.80276277,  0.44295604],\n",
       "       [-0.70800656,  1.43671337],\n",
       "       [-0.23422551, -0.5508013 ],\n",
       "       [ 0.90284902,  1.16568865],\n",
       "       [-1.0870314 ,  0.4730699 ],\n",
       "       [-0.89751898, -1.09285075],\n",
       "       [-0.51849414,  0.95489164],\n",
       "       [ 1.47138628,  0.41284218],\n",
       "       [-1.46605624,  0.38272832],\n",
       "       [-1.75032487, -1.48433091],\n",
       "       [-0.42373793, -1.12296461],\n",
       "       [ 0.99760523, -1.00250917],\n",
       "       [-0.23422551, -1.24342004],\n",
       "       [ 0.90284902, -1.36387548],\n",
       "       [ 0.52382418,  1.82819354],\n",
       "       [-1.65556866, -0.97239532],\n",
       "       [ 0.14479933,  0.20204517],\n",
       "       [ 0.05004312, -0.5508013 ],\n",
       "       [-0.61325035,  0.17193131],\n",
       "       [-0.32898172, -0.76159831],\n",
       "       [-0.1394693 ,  1.49694109],\n",
       "       [ 1.37663007, -1.42410319],\n",
       "       [-0.23422551, -1.36387548],\n",
       "       [-0.80276277, -0.21954885],\n",
       "       [ 0.90284902, -1.30364776],\n",
       "       [-0.23422551,  0.59352533],\n",
       "       [ 0.99760523,  1.88842125],\n",
       "       [-0.61325035, -1.51444477],\n",
       "       [-1.37130003, -0.06897956],\n",
       "       [-0.61325035,  0.62363919],\n",
       "       [-1.65556866, -1.36387548],\n",
       "       [-1.18178761, -1.06273689],\n",
       "       [ 0.7133366 , -1.39398934],\n",
       "       [ 0.80809281, -1.36387548],\n",
       "       [-1.56081245, -1.57467249],\n",
       "       [ 0.33431175, -1.15307847],\n",
       "       [ 0.80809281, -1.09285075],\n",
       "       [-0.04471309, -0.400232  ],\n",
       "       [ 1.09236144,  0.62363919],\n",
       "       [-1.0870314 ,  1.49694109],\n",
       "       [ 0.90284902,  2.27990141],\n",
       "       [-1.0870314 ,  0.53329761],\n",
       "       [ 0.90284902, -0.58091515],\n",
       "       [ 0.14479933, -0.79171216],\n",
       "       [-0.89751898, -0.73148445],\n",
       "       [-0.70800656, -0.18943499],\n",
       "       [-0.89751898,  0.50318376],\n",
       "       [-0.61325035, -1.03262303],\n",
       "       [-0.32898172,  1.40659951],\n",
       "       [ 0.14479933,  0.08158974],\n",
       "       [ 1.94516733,  0.98500549],\n",
       "       [ 0.23955554,  0.20204517],\n",
       "       [ 0.90284902,  1.10546093],\n",
       "       [ 1.28187386, -1.36387548],\n",
       "       [ 1.09236144, -0.09909342],\n",
       "       [ 0.99760523, -1.15307847],\n",
       "       [-0.23422551,  0.3225006 ],\n",
       "       [-0.23422551, -0.88205374],\n",
       "       [-1.46605624, -1.24342004],\n",
       "       [ 1.94516733, -0.9121676 ],\n",
       "       [-0.80276277, -1.21330618],\n",
       "       [ 0.33431175, -0.27977657],\n",
       "       [-0.70800656,  0.56341147],\n",
       "       [-0.42373793,  2.43047071],\n",
       "       [ 0.90284902, -0.5508013 ],\n",
       "       [ 0.33431175, -0.24966271],\n",
       "       [ 0.7133366 , -1.39398934],\n",
       "       [ 0.05004312, -0.21954885],\n",
       "       [ 0.7133366 , -1.09285075],\n",
       "       [-1.0870314 ,  0.11170359],\n",
       "       [-0.1394693 ,  0.20204517],\n",
       "       [-0.61325035,  1.49694109],\n",
       "       [ 0.80809281, -0.82182602],\n",
       "       [-1.27654382,  0.62363919],\n",
       "       [ 0.14479933,  0.26227289],\n",
       "       [-0.42373793, -0.76159831],\n",
       "       [-0.80276277,  0.35261446],\n",
       "       [ 0.80809281, -1.39398934],\n",
       "       [-0.99227519, -0.30989043],\n",
       "       [ 0.33431175, -0.52068744],\n",
       "       [ 0.33431175,  0.35261446],\n",
       "       [-0.99227519, -1.12296461],\n",
       "       [-1.46605624, -1.51444477],\n",
       "       [-0.70800656,  2.00887669],\n",
       "       [ 0.99760523,  0.17193131],\n",
       "       [ 0.90284902,  1.3463718 ],\n",
       "       [ 1.18711765, -0.73148445],\n",
       "       [-0.89751898, -0.94228146],\n",
       "       [ 0.80809281, -1.21330618],\n",
       "       [-0.1394693 , -0.24966271],\n",
       "       [-0.42373793,  1.3463718 ],\n",
       "       [-0.51849414,  1.46682723],\n",
       "       [-0.04471309, -0.34000428],\n",
       "       [-0.04471309, -0.46045972],\n",
       "       [-1.0870314 , -1.60478635],\n",
       "       [-0.61325035,  0.08158974],\n",
       "       [ 1.09236144, -0.88205374],\n",
       "       [ 2.03992354,  2.24978756],\n",
       "       [ 1.09236144,  0.59352533],\n",
       "       [ 0.42906797, -0.43034586],\n",
       "       [ 1.6608987 ,  1.85830739],\n",
       "       [-0.23422551,  0.20204517],\n",
       "       [-0.99227519,  0.62363919],\n",
       "       [-0.04471309,  0.20204517],\n",
       "       [ 1.18711765, -0.97239532],\n",
       "       [ 0.42906797,  0.35261446],\n",
       "       [-1.56081245, -0.00875184],\n",
       "       [-1.65556866,  0.17193131],\n",
       "       [ 0.42906797, -0.12920727],\n",
       "       [-0.1394693 ,  0.92477778],\n",
       "       [-0.23422551, -1.45421705],\n",
       "       [ 0.23955554,  0.11170359],\n",
       "       [-0.1394693 , -0.15932113],\n",
       "       [-1.18178761, -1.39398934],\n",
       "       [-0.23422551, -0.9121676 ],\n",
       "       [-1.27654382, -1.48433091],\n",
       "       [-0.23422551, -0.21954885],\n",
       "       [-0.89751898,  0.4730699 ],\n",
       "       [-0.70800656,  0.35261446],\n",
       "       [ 0.90284902, -0.52068744],\n",
       "       [ 0.33431175, -0.15932113],\n",
       "       [ 1.09236144, -0.97239532],\n",
       "       [ 0.05004312, -0.52068744],\n",
       "       [ 0.80809281,  0.41284218],\n",
       "       [-0.04471309,  0.26227289],\n",
       "       [ 0.99760523, -1.18319233],\n",
       "       [ 0.42906797, -0.46045972],\n",
       "       [-1.27654382, -1.09285075],\n",
       "       [-1.0870314 ,  0.35261446],\n",
       "       [ 0.23955554, -0.64114287],\n",
       "       [-0.61325035, -0.30989043],\n",
       "       [-1.18178761,  0.3225006 ],\n",
       "       [ 1.75565491,  1.94864897],\n",
       "       [ 2.03992354,  0.44295604],\n",
       "       [ 0.23955554,  0.29238675],\n",
       "       [-0.42373793,  0.02136202],\n",
       "       [-1.75032487,  0.50318376],\n",
       "       [-0.89751898, -0.400232  ],\n",
       "       [-1.18178761,  0.65375305],\n",
       "       [ 1.28187386,  1.97876283],\n",
       "       [ 0.23955554, -0.21954885],\n",
       "       [ 0.33431175,  0.56341147],\n",
       "       [-0.23422551, -1.39398934],\n",
       "       [ 1.47138628,  1.07534707],\n",
       "       [ 0.42906797,  2.43047071],\n",
       "       [ 0.14479933, -0.21954885],\n",
       "       [-1.0870314 , -0.49057358],\n",
       "       [-1.37130003, -0.15932113],\n",
       "       [ 1.37663007,  1.37648566],\n",
       "       [ 0.90284902, -0.76159831],\n",
       "       [ 1.75565491,  1.07534707],\n",
       "       [-0.23422551,  0.08158974],\n",
       "       [-1.0870314 , -0.76159831],\n",
       "       [-1.56081245,  0.59352533],\n",
       "       [-1.84508108, -0.49057358],\n",
       "       [-1.37130003,  0.41284218],\n",
       "       [ 0.05004312,  0.08158974],\n",
       "       [-1.0870314 , -1.00250917],\n",
       "       [-0.04471309,  0.08158974],\n",
       "       [-0.99227519,  2.0691044 ],\n",
       "       [ 0.42906797, -0.09909342],\n",
       "       [ 1.47138628,  2.24978756],\n",
       "       [-0.04471309, -0.18943499],\n",
       "       [-0.23422551, -1.30364776],\n",
       "       [-0.51849414, -1.51444477],\n",
       "       [-0.80276277, -0.64114287],\n",
       "       [-0.42373793, -1.21330618],\n",
       "       [-1.65556866,  0.53329761],\n",
       "       [-0.23422551,  0.20204517],\n",
       "       [-0.99227519,  0.59352533],\n",
       "       [-1.84508108, -0.73148445],\n",
       "       [ 0.99760523,  0.8344362 ],\n",
       "       [-0.04471309,  2.0691044 ],\n",
       "       [-1.27654382, -0.30989043],\n",
       "       [-1.27654382, -0.400232  ],\n",
       "       [ 2.13467975,  0.44295604],\n",
       "       [-0.61325035,  0.23215903],\n",
       "       [-0.99227519, -1.45421705],\n",
       "       [ 2.03992354, -0.79171216],\n",
       "       [-0.32898172, -0.76159831],\n",
       "       [ 0.42906797,  0.20204517],\n",
       "       [-0.89751898,  1.64751038],\n",
       "       [ 0.42906797,  0.05147588],\n",
       "       [ 0.99760523,  2.09921826],\n",
       "       [-0.04471309,  0.74409463],\n",
       "       [ 0.05004312, -0.09909342],\n",
       "       [ 0.80809281,  1.46682723],\n",
       "       [-0.99227519,  0.8344362 ],\n",
       "       [-1.46605624, -0.15932113],\n",
       "       [-0.70800656, -0.58091515],\n",
       "       [-1.27654382, -0.400232  ],\n",
       "       [-1.65556866,  0.41284218],\n",
       "       [-1.75032487, -1.30364776],\n",
       "       [-0.80276277,  2.40035685],\n",
       "       [-1.0870314 ,  0.38272832],\n",
       "       [-1.75032487,  0.05147588],\n",
       "       [-0.23422551,  0.86455006],\n",
       "       [-0.70800656,  0.62363919],\n",
       "       [-0.89751898,  0.62363919],\n",
       "       [ 0.99760523,  2.18955984],\n",
       "       [-0.70800656,  1.16568865],\n",
       "       [-0.42373793, -0.52068744],\n",
       "       [-0.1394693 , -0.5508013 ],\n",
       "       [ 0.99760523,  1.97876283],\n",
       "       [ 1.28187386,  2.34012913],\n",
       "       [-0.89751898, -0.27977657],\n",
       "       [ 0.14479933,  0.3225006 ],\n",
       "       [ 0.05004312, -0.5508013 ],\n",
       "       [-0.89751898,  0.3225006 ],\n",
       "       [-0.61325035, -0.00875184],\n",
       "       [ 1.18711765,  0.59352533],\n",
       "       [ 0.14479933,  0.14181745],\n",
       "       [ 0.23955554, -0.34000428],\n",
       "       [ 0.42906797, -0.09909342],\n",
       "       [-1.27654382, -1.36387548],\n",
       "       [ 0.33431175,  0.11170359],\n",
       "       [-0.42373793, -0.24966271],\n",
       "       [-0.51849414,  2.00887669],\n",
       "       [ 0.52382418,  1.94864897],\n",
       "       [ 0.14479933,  0.8344362 ],\n",
       "       [ 1.37663007,  2.09921826],\n",
       "       [ 2.13467975,  1.1958025 ],\n",
       "       [ 1.09236144,  0.53329761],\n",
       "       [ 0.23955554, -0.09909342],\n",
       "       [-0.61325035, -1.60478635],\n",
       "       [ 1.09236144,  0.17193131],\n",
       "       [-0.99227519, -0.30989043],\n",
       "       [-0.23422551, -0.24966271],\n",
       "       [-0.80276277,  0.44295604],\n",
       "       [ 0.33431175, -0.70137059],\n",
       "       [-0.23422551,  0.11170359],\n",
       "       [ 0.42906797,  1.1958025 ],\n",
       "       [-0.23422551, -0.34000428],\n",
       "       [ 0.05004312,  0.08158974],\n",
       "       [ 1.18711765, -1.45421705],\n",
       "       [ 1.75565491, -0.24966271],\n",
       "       [ 0.23955554, -0.24966271],\n",
       "       [ 0.33431175,  0.11170359],\n",
       "       [ 1.85041112,  0.17193131],\n",
       "       [-0.23422551, -0.64114287],\n",
       "       [-0.23422551, -0.5508013 ],\n",
       "       [-1.65556866,  0.41284218],\n",
       "       [ 1.6608987 , -0.88205374],\n",
       "       [-1.0870314 , -1.15307847],\n",
       "       [-1.0870314 , -1.09285075],\n",
       "       [-0.23422551, -0.46045972],\n",
       "       [ 1.56614249,  1.07534707],\n",
       "       [ 0.7133366 ,  0.3225006 ],\n",
       "       [-1.65556866, -0.58091515],\n",
       "       [ 0.42906797,  0.14181745],\n",
       "       [ 0.14479933,  1.13557479],\n",
       "       [ 0.42906797,  0.35261446],\n",
       "       [-0.23422551, -0.30989043],\n",
       "       [ 0.05004312,  1.31625794],\n",
       "       [-0.89751898, -0.27977657],\n",
       "       [-0.89751898,  0.56341147],\n",
       "       [ 1.09236144, -1.21330618],\n",
       "       [ 2.03992354, -1.18319233],\n",
       "       [ 0.99760523,  0.65375305],\n",
       "       [ 0.42906797,  1.07534707],\n",
       "       [ 0.90284902, -1.15307847],\n",
       "       [-1.75032487,  0.23215903],\n",
       "       [-0.23422551, -0.27977657],\n",
       "       [ 0.99760523, -0.82182602],\n",
       "       [-1.0870314 , -1.57467249],\n",
       "       [-1.18178761,  0.35261446],\n",
       "       [-0.99227519, -0.34000428],\n",
       "       [-0.23422551,  1.1958025 ],\n",
       "       [-0.04471309,  0.29238675],\n",
       "       [ 0.05004312, -0.21954885],\n",
       "       [ 2.03992354,  0.59352533],\n",
       "       [ 1.85041112, -0.24966271],\n",
       "       [-1.75032487, -1.2735339 ],\n",
       "       [ 0.80809281,  0.17193131],\n",
       "       [ 0.99760523, -1.06273689],\n",
       "       [-0.32898172,  1.31625794],\n",
       "       [-0.42373793, -0.82182602],\n",
       "       [-1.0870314 , -1.54455863],\n",
       "       [ 0.42906797,  0.3225006 ],\n",
       "       [ 0.99760523, -1.06273689],\n",
       "       [-0.70800656, -1.60478635],\n",
       "       [ 0.33431175, -0.49057358],\n",
       "       [ 0.7133366 ,  1.88842125],\n",
       "       [ 1.85041112, -1.2735339 ],\n",
       "       [ 0.14479933, -0.27977657],\n",
       "       [ 1.6608987 ,  1.7077381 ],\n",
       "       [ 0.23955554,  0.20204517],\n",
       "       [ 0.33431175,  0.3225006 ],\n",
       "       [ 1.94516733, -0.64114287],\n",
       "       [ 0.14479933,  1.61739652],\n",
       "       [-0.23422551, -0.400232  ],\n",
       "       [ 0.33431175,  0.08158974],\n",
       "       [ 0.14479933,  1.97876283],\n",
       "       [ 0.90284902, -1.45421705],\n",
       "       [-1.84508108, -0.00875184],\n",
       "       [ 0.90284902, -1.03262303],\n",
       "       [-0.99227519,  0.4730699 ],\n",
       "       [ 1.37663007,  0.65375305],\n",
       "       [-0.23422551,  0.11170359],\n",
       "       [ 0.33431175,  0.11170359],\n",
       "       [-1.56081245,  0.11170359],\n",
       "       [-0.32898172, -1.30364776],\n",
       "       [-1.27654382,  0.4730699 ],\n",
       "       [ 1.85041112, -1.06273689],\n",
       "       [-0.23422551,  2.37024299],\n",
       "       [-0.04471309,  2.34012913],\n",
       "       [ 2.13467975, -0.79171216],\n",
       "       [-0.04471309, -0.49057358],\n",
       "       [-0.04471309,  0.05147588],\n",
       "       [-0.99227519, -1.54455863],\n",
       "       [ 0.23955554, -0.27977657],\n",
       "       [-0.04471309, -1.06273689],\n",
       "       [-1.27654382, -1.24342004],\n",
       "       [ 1.37663007, -0.9121676 ],\n",
       "       [ 0.99760523,  1.52705495],\n",
       "       [ 2.13467975, -0.79171216],\n",
       "       [ 0.80809281,  0.8344362 ],\n",
       "       [ 2.13467975,  1.01511935],\n",
       "       [ 2.03992354,  0.23215903],\n",
       "       [ 2.13467975, -1.03262303]])"
      ]
     },
     "execution_count": 16,
     "metadata": {},
     "output_type": "execute_result"
    }
   ],
   "source": [
    "X_train"
   ]
  },
  {
   "cell_type": "code",
   "execution_count": 17,
   "id": "d7bfabc5",
   "metadata": {},
   "outputs": [],
   "source": [
    "X_test = scaler.transform(X_test)"
   ]
  },
  {
   "cell_type": "code",
   "execution_count": 18,
   "id": "2ffaeed1",
   "metadata": {},
   "outputs": [
    {
     "data": {
      "text/plain": [
       "array([[-1.0870314 ,  0.35261446],\n",
       "       [ 0.61858039,  2.12933212],\n",
       "       [-0.04471309,  0.35261446],\n",
       "       [-0.70800656,  0.3225006 ],\n",
       "       [-0.99227519, -0.43034586],\n",
       "       [-0.04471309,  0.35261446],\n",
       "       [-1.37130003, -1.21330618],\n",
       "       [ 1.56614249,  1.1958025 ],\n",
       "       [ 0.23955554, -0.34000428],\n",
       "       [-0.1394693 ,  1.7077381 ],\n",
       "       [ 0.80809281,  0.3225006 ],\n",
       "       [-0.51849414, -1.51444477],\n",
       "       [ 1.37663007,  2.46058457],\n",
       "       [ 0.90284902, -0.64114287],\n",
       "       [-0.51849414,  0.53329761],\n",
       "       [-0.80276277, -0.76159831],\n",
       "       [-0.99227519,  0.65375305],\n",
       "       [ 0.7133366 , -1.2735339 ],\n",
       "       [-1.37130003, -0.61102901],\n",
       "       [ 1.85041112,  1.61739652],\n",
       "       [-0.23422551, -0.09909342],\n",
       "       [ 0.14479933, -0.79171216],\n",
       "       [-1.46605624, -0.400232  ],\n",
       "       [-1.0870314 , -1.60478635],\n",
       "       [ 0.42906797, -0.43034586],\n",
       "       [-0.51849414,  2.46058457],\n",
       "       [ 0.05004312, -0.400232  ],\n",
       "       [-0.23422551,  0.14181745],\n",
       "       [ 1.09236144, -1.21330618],\n",
       "       [ 0.42906797,  0.65375305],\n",
       "       [-0.32898172,  0.11170359],\n",
       "       [-0.51849414,  1.46682723],\n",
       "       [-0.61325035, -0.06897956],\n",
       "       [ 0.05004312,  1.3463718 ],\n",
       "       [ 0.05004312,  0.35261446],\n",
       "       [ 0.14479933,  1.97876283],\n",
       "       [-0.70800656, -1.54455863],\n",
       "       [ 0.14479933,  0.08158974],\n",
       "       [ 0.23955554,  1.16568865],\n",
       "       [ 0.80809281, -0.27977657],\n",
       "       [-0.23422551, -0.73148445],\n",
       "       [-0.23422551,  0.26227289],\n",
       "       [ 1.94516733, -1.36387548],\n",
       "       [ 2.13467975, -0.67125673],\n",
       "       [ 1.09236144,  2.18955984],\n",
       "       [-0.1394693 , -0.49057358],\n",
       "       [-0.1394693 , -0.43034586],\n",
       "       [-0.51849414,  1.55716881],\n",
       "       [-0.04471309,  2.27990141],\n",
       "       [-0.1394693 ,  2.27990141],\n",
       "       [-1.84508108,  0.41284218],\n",
       "       [ 1.47138628, -1.03262303],\n",
       "       [ 1.94516733,  0.80432234],\n",
       "       [-0.80276277,  0.20204517],\n",
       "       [ 0.33431175, -0.49057358],\n",
       "       [ 1.56614249, -1.2735339 ],\n",
       "       [ 0.23955554, -0.34000428],\n",
       "       [-1.18178761,  0.56341147],\n",
       "       [ 0.80809281,  0.59352533],\n",
       "       [ 1.47138628,  0.11170359],\n",
       "       [ 1.56614249,  0.05147588],\n",
       "       [ 0.23955554,  0.08158974],\n",
       "       [-1.75032487, -1.42410319],\n",
       "       [-0.23422551,  0.68386691],\n",
       "       [ 0.7133366 , -0.70137059],\n",
       "       [-0.04471309,  0.11170359],\n",
       "       [ 0.23955554,  2.2196737 ],\n",
       "       [ 0.33431175,  0.11170359],\n",
       "       [ 0.61858039, -0.88205374],\n",
       "       [-0.04471309,  0.17193131],\n",
       "       [-0.1394693 ,  1.73785196],\n",
       "       [-0.04471309,  0.3225006 ],\n",
       "       [ 0.05004312, -0.27977657],\n",
       "       [ 0.52382418,  1.31625794],\n",
       "       [-1.84508108,  0.53329761],\n",
       "       [ 1.94516733,  2.27990141],\n",
       "       [-0.1394693 , -1.06273689],\n",
       "       [-1.37130003, -1.45421705],\n",
       "       [ 2.03992354,  1.85830739],\n",
       "       [-0.80276277, -0.76159831]])"
      ]
     },
     "execution_count": 18,
     "metadata": {},
     "output_type": "execute_result"
    }
   ],
   "source": [
    "X_test"
   ]
  },
  {
   "cell_type": "code",
   "execution_count": null,
   "id": "c3bcde38",
   "metadata": {},
   "outputs": [],
   "source": []
  },
  {
   "cell_type": "code",
   "execution_count": 19,
   "id": "cd506e8a",
   "metadata": {},
   "outputs": [
    {
     "data": {
      "text/plain": [
       "17.88854381999832"
      ]
     },
     "execution_count": 19,
     "metadata": {},
     "output_type": "execute_result"
    }
   ],
   "source": [
    "## Apply KNN for our data\n",
    "\n",
    "## Calculate the value of k --- k = sqrt(num of rows in training dataset)\n",
    "## k =sqrt(320)\n",
    "\n",
    "np.sqrt(320)"
   ]
  },
  {
   "cell_type": "code",
   "execution_count": 20,
   "id": "25092c89",
   "metadata": {},
   "outputs": [],
   "source": [
    "k = 17"
   ]
  },
  {
   "cell_type": "code",
   "execution_count": 21,
   "id": "ab7fabdf",
   "metadata": {},
   "outputs": [
    {
     "data": {
      "text/plain": [
       "KNeighborsClassifier(n_neighbors=17)"
      ]
     },
     "execution_count": 21,
     "metadata": {},
     "output_type": "execute_result"
    }
   ],
   "source": [
    "from sklearn.neighbors import KNeighborsClassifier\n",
    "knn = KNeighborsClassifier(n_neighbors=17)\n",
    "knn.fit(X_train, y_train)\n"
   ]
  },
  {
   "cell_type": "code",
   "execution_count": 23,
   "id": "c6afc7b1",
   "metadata": {},
   "outputs": [],
   "source": [
    "y_pred = knn.predict(X_test)"
   ]
  },
  {
   "cell_type": "code",
   "execution_count": 24,
   "id": "1a45bb7f",
   "metadata": {},
   "outputs": [
    {
     "data": {
      "text/plain": [
       "0.9125"
      ]
     },
     "execution_count": 24,
     "metadata": {},
     "output_type": "execute_result"
    }
   ],
   "source": [
    "from sklearn.metrics import accuracy_score,confusion_matrix\n",
    "accuracy_score(y_test , y_pred)"
   ]
  },
  {
   "cell_type": "code",
   "execution_count": 25,
   "id": "8c411740",
   "metadata": {},
   "outputs": [
    {
     "data": {
      "text/plain": [
       "array([[43,  2],\n",
       "       [ 5, 30]], dtype=int64)"
      ]
     },
     "execution_count": 25,
     "metadata": {},
     "output_type": "execute_result"
    }
   ],
   "source": [
    "confusion_matrix(y_test,y_pred)"
   ]
  },
  {
   "cell_type": "code",
   "execution_count": null,
   "id": "ca29c5be",
   "metadata": {},
   "outputs": [],
   "source": []
  },
  {
   "cell_type": "code",
   "execution_count": 26,
   "id": "3449301a",
   "metadata": {},
   "outputs": [],
   "source": [
    "## calculate k based on trial and error method\n",
    "\n",
    "accuracy = []\n",
    "for i in range(1,26):\n",
    "    knn = KNeighborsClassifier(n_neighbors=i)\n",
    "    knn.fit(X_train, y_train)\n",
    "    accuracy.append(accuracy_score(y_test , knn.predict(X_test)))\n",
    "    \n",
    "    "
   ]
  },
  {
   "cell_type": "code",
   "execution_count": 28,
   "id": "93e62b2a",
   "metadata": {},
   "outputs": [
    {
     "data": {
      "text/plain": [
       "25"
      ]
     },
     "execution_count": 28,
     "metadata": {},
     "output_type": "execute_result"
    }
   ],
   "source": [
    "len(accuracy)"
   ]
  },
  {
   "cell_type": "code",
   "execution_count": 29,
   "id": "5620cb69",
   "metadata": {},
   "outputs": [
    {
     "data": {
      "text/plain": [
       "[<matplotlib.lines.Line2D at 0x2189cce7580>]"
      ]
     },
     "execution_count": 29,
     "metadata": {},
     "output_type": "execute_result"
    },
    {
     "data": {
      "image/png": "[encoded data removed]",
      "text/plain": [
       "<Figure size 432x288 with 1 Axes>"
      ]
     },
     "metadata": {
      "needs_background": "light"
     },
     "output_type": "display_data"
    }
   ],
   "source": [
    "plt.plot(range(1,26) , accuracy)"
   ]
  },
  {
   "cell_type": "code",
   "execution_count": 30,
   "id": "c5895f11",
   "metadata": {},
   "outputs": [
    {
     "data": {
      "text/plain": [
       "0.925"
      ]
     },
     "execution_count": 30,
     "metadata": {},
     "output_type": "execute_result"
    }
   ],
   "source": [
    "knn = KNeighborsClassifier(n_neighbors=11)\n",
    "knn.fit(X_train , y_train)\n",
    "y_pred = knn.predict(X_test)\n",
    "accuracy_score(y_test , y_pred)"
   ]
  },
  {
   "cell_type": "code",
   "execution_count": null,
   "id": "8fdf75b6",
   "metadata": {},
   "outputs": [],
   "source": []
  },
  {
   "cell_type": "code",
   "execution_count": 31,
   "id": "afc682ae",
   "metadata": {},
   "outputs": [],
   "source": [
    "def predict_output():\n",
    "    age = int(input('Enter the age'))\n",
    "    salary = int(input('Enter the salary'))\n",
    "    \n",
    "    return np.array([[age] , [salary]])"
   ]
  },
  {
   "cell_type": "code",
   "execution_count": 32,
   "id": "2c0ae532",
   "metadata": {},
   "outputs": [
    {
     "name": "stdout",
     "output_type": "stream",
     "text": [
      "Enter the age20\n",
      "Enter the salary20000\n"
     ]
    },
    {
     "data": {
      "text/plain": [
       "array([[   20],\n",
       "       [20000]])"
      ]
     },
     "execution_count": 32,
     "metadata": {},
     "output_type": "execute_result"
    }
   ],
   "source": [
    "predict_output()"
   ]
  },
  {
   "cell_type": "code",
   "execution_count": null,
   "id": "a4429fd9",
   "metadata": {},
   "outputs": [],
   "source": []
  },
  {
   "cell_type": "code",
   "execution_count": 40,
   "id": "0d260539",
   "metadata": {},
   "outputs": [],
   "source": [
    "def predict_output():\n",
    "    age = int(input('Enter the age '))\n",
    "    salary = int(input('Enter the salary '))\n",
    "    \n",
    "    X_new =  np.array([[age] , [salary]]).reshape(1,2)\n",
    "    X_new = scaler.transform(X_new)\n",
    "    \n",
    "    if knn.predict(X_new)[0] == 0:\n",
    "        return 'Will not purchase'\n",
    "    else:\n",
    "        return 'Will purchase'"
   ]
  },
  {
   "cell_type": "code",
   "execution_count": 41,
   "id": "630025bc",
   "metadata": {},
   "outputs": [
    {
     "name": "stdout",
     "output_type": "stream",
     "text": [
      "Enter the age 30\n",
      "Enter the salary 120000\n"
     ]
    },
    {
     "data": {
      "text/plain": [
       "'Will purchase'"
      ]
     },
     "execution_count": 41,
     "metadata": {},
     "output_type": "execute_result"
    }
   ],
   "source": [
    "predict_output()"
   ]
  },
  {
   "cell_type": "code",
   "execution_count": 42,
   "id": "854ecb2e",
   "metadata": {},
   "outputs": [
    {
     "name": "stdout",
     "output_type": "stream",
     "text": [
      "Enter the age 20\n",
      "Enter the salary 80000\n"
     ]
    },
    {
     "data": {
      "text/plain": [
       "'Will not purchase'"
      ]
     },
     "execution_count": 42,
     "metadata": {},
     "output_type": "execute_result"
    }
   ],
   "source": [
    "predict_output()"
   ]
  },
  {
   "cell_type": "code",
   "execution_count": null,
   "id": "488b2ed7",
   "metadata": {},
   "outputs": [],
   "source": []
  },
  {
   "cell_type": "code",
   "execution_count": null,
   "id": "3b438c12",
   "metadata": {},
   "outputs": [],
   "source": []
  }
 ],
 "metadata": {
  "kernelspec": {
   "display_name": "Python 3 (ipykernel)",
   "language": "python",
   "name": "python3"
  },
  "language_info": {
   "codemirror_mode": {
    "name": "ipython",
    "version": 3
   },
   "file_extension": ".py",
   "mimetype": "text/x-python",
   "name": "python",
   "nbconvert_exporter": "python",
   "pygments_lexer": "ipython3",
   "version": "3.10.4"
  }
 },
 "nbformat": 4,
 "nbformat_minor": 5
}
